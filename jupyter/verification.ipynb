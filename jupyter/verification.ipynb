{
 "cells": [
  {
   "cell_type": "code",
   "execution_count": 1,
   "id": "3c2da7ed-e4cd-4d56-af15-9281849654eb",
   "metadata": {},
   "outputs": [],
   "source": [
    "import csv\n",
    "import numpy as np\n",
    "\n",
    "# Parameters\n",
    "num_rows = 5\n",
    "num_pixels = 784\n",
    "\n",
    "# Initialize a NumPy matrix with zeros\n",
    "matrix = np.zeros((num_rows, num_pixels), dtype=int)\n",
    "\n",
    "# Open the CSV file and read the first 5 rows\n",
    "with open('train.csv', 'r') as csv_file:\n",
    "    reader = csv.reader(csv_file)\n",
    "    next(reader)  # Skip the header row\n",
    "\n",
    "    # Read the first 5 rows and populate the matrix\n",
    "    for i, row in enumerate(reader):\n",
    "        if i >= num_rows:  # Only process the first 5 rows\n",
    "            break\n",
    "        # Convert pixel values to integers and store in the matrix\n",
    "        pixels = list(map(int, row[1:]))  # Skip the label column\n",
    "        matrix[i] = pixels"
   ]
  },
  {
   "cell_type": "code",
   "execution_count": 4,
   "id": "4d88043d-c7fd-454c-bb2a-46f327b529c9",
   "metadata": {},
   "outputs": [],
   "source": [
    "# Flatten the 5x784 matrix into a 1D array\n",
    "flattened_matrix = matrix.flatten()\n",
    "\n",
    "# Reshape the flattened array into a 784x5 matrix\n",
    "reshaped_matrix = flattened_matrix.reshape((784, 5))"
   ]
  },
  {
   "cell_type": "code",
   "execution_count": 5,
   "id": "2d07f152-7bf7-4e2c-ab29-0a8c573e7847",
   "metadata": {},
   "outputs": [
    {
     "data": {
      "text/plain": [
       "array([[ 607968,  625387,  534050,  520611,  707344],\n",
       "       [1395815, 1909422, 1975410, 1827885, 1643205],\n",
       "       [ 865233,  797343,  503553,  477666,  663762],\n",
       "       [ 499320,  676087,  948186,  813312,  814109],\n",
       "       [1389117, 1840882, 1880924, 1775644, 1560134]])"
      ]
     },
     "execution_count": 5,
     "metadata": {},
     "output_type": "execute_result"
    }
   ],
   "source": [
    "# Compute the product of the matrix and its transpose\n",
    "result_matrix = np.dot(matrix, reshaped_matrix)\n",
    "\n",
    "# Print the result matrix\n",
    "result_matrix"
   ]
  },
  {
   "cell_type": "code",
   "execution_count": null,
   "id": "68c2db57-46fb-4901-bee1-18a63cfb628c",
   "metadata": {},
   "outputs": [],
   "source": []
  }
 ],
 "metadata": {
  "kernelspec": {
   "display_name": "Python 3 (ipykernel)",
   "language": "python",
   "name": "python3"
  },
  "language_info": {
   "codemirror_mode": {
    "name": "ipython",
    "version": 3
   },
   "file_extension": ".py",
   "mimetype": "text/x-python",
   "name": "python",
   "nbconvert_exporter": "python",
   "pygments_lexer": "ipython3",
   "version": "3.12.2"
  }
 },
 "nbformat": 4,
 "nbformat_minor": 5
}
