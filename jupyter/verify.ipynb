{
 "cells": [
  {
   "cell_type": "code",
   "execution_count": 21,
   "id": "3c2da7ed-e4cd-4d56-af15-9281849654eb",
   "metadata": {},
   "outputs": [],
   "source": [
    "import csv\n",
    "import numpy as np\n",
    "\n",
    "# Parameters\n",
    "num_rows = 5\n",
    "num_pixels = 784\n",
    "\n",
    "# Initialize a NumPy matrix with zeros\n",
    "matrix = np.zeros((num_rows, num_pixels), dtype=int)\n",
    "\n",
    "# Open the CSV file and read the first 5 rows\n",
    "with open('train.csv', 'r') as csv_file:\n",
    "    reader = csv.reader(csv_file)\n",
    "    next(reader)  # Skip the header row\n",
    "\n",
    "    # Read the first 5 rows and populate the matrix\n",
    "    for i, row in enumerate(reader):\n",
    "        if i >= num_rows:  # Only process the first 5 rows\n",
    "            break\n",
    "        # Convert pixel values to integers and store in the matrix\n",
    "        pixels = list(map(int, row[1:]))  # Skip the label column\n",
    "        matrix[i] = pixels"
   ]
  },
  {
   "cell_type": "code",
   "execution_count": 8,
   "id": "85da9c6f-ebfc-49b5-96e2-81861ff5867e",
   "metadata": {},
   "outputs": [],
   "source": [
    "matrix = matrix / 4"
   ]
  },
  {
   "cell_type": "code",
   "execution_count": 13,
   "id": "dbc7f3aa-a203-4ed5-8736-4ade653cba2d",
   "metadata": {},
   "outputs": [],
   "source": [
    "matrix = np.floor(matrix)"
   ]
  },
  {
   "cell_type": "code",
   "execution_count": 15,
   "id": "3b0fa6f0-8ed3-413c-a39d-9be7ecb50242",
   "metadata": {},
   "outputs": [],
   "source": [
    "matrix = matrix.astype(int)"
   ]
  }
 ],
 "metadata": {
  "kernelspec": {
   "display_name": "Python 3 (ipykernel)",
   "language": "python",
   "name": "python3"
  },
  "language_info": {
   "codemirror_mode": {
    "name": "ipython",
    "version": 3
   },
   "file_extension": ".py",
   "mimetype": "text/x-python",
   "name": "python",
   "nbconvert_exporter": "python",
   "pygments_lexer": "ipython3",
   "version": "3.12.2"
  }
 },
 "nbformat": 4,
 "nbformat_minor": 5
}
