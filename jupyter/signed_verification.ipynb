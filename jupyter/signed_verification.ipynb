{
 "cells": [
  {
   "cell_type": "code",
   "execution_count": 63,
   "id": "89e22301-4ddc-4dde-92cd-cf310c667364",
   "metadata": {},
   "outputs": [
    {
     "name": "stdout",
     "output_type": "stream",
     "text": [
      "MIF file with signed integers written to signed_matrix.mif\n"
     ]
    }
   ],
   "source": [
    "import numpy as np\n",
    "\n",
    "# Set the dimensions of the matrix\n",
    "rows = 5\n",
    "cols = 784\n",
    "\n",
    "# Generate the matrix with signed integers in the range of -128 to 127 (int8 type)\n",
    "matrix = np.random.randint(-128, 128, size=(rows, cols), dtype=np.int8)\n",
    "\n",
    "# Function to convert signed integers to 32-bit two's complement hex\n",
    "def signed_to_hex(num):\n",
    "    # Convert to 32-bit signed int\n",
    "    num_32bit = np.int32(num)\n",
    "    # Convert to unsigned 32-bit for hex representation\n",
    "    # & 0xFFFFFFFF ensures we get the full 32-bit representation\n",
    "    unsigned_32bit = num_32bit & 0xFFFFFFFF\n",
    "    return f'{unsigned_32bit:08X}'\n",
    "\n",
    "# Create the MIF file and write the matrix\n",
    "mif_filename = 'signed_matrix.mif'\n",
    "with open(mif_filename, 'w') as mif_file:\n",
    "    for row in matrix:\n",
    "        for num in row:\n",
    "            mif_file.write(signed_to_hex(num) + '\\n')\n",
    "\n",
    "print(f'MIF file with signed integers written to {mif_filename}')"
   ]
  },
  {
   "cell_type": "code",
   "execution_count": 64,
   "id": "e66f971a-0b01-4a58-bbf4-a42526818d70",
   "metadata": {},
   "outputs": [
    {
     "data": {
      "text/plain": [
       "(5, 784)"
      ]
     },
     "execution_count": 64,
     "metadata": {},
     "output_type": "execute_result"
    }
   ],
   "source": [
    "matrix.shape"
   ]
  },
  {
   "cell_type": "code",
   "execution_count": 73,
   "id": "18409b99-e58f-4f1b-bae0-6a47b0b2ac8c",
   "metadata": {},
   "outputs": [
    {
     "data": {
      "text/plain": [
       "array([[  60,  103,  -25, ...,  117,  117,   78],\n",
       "       [  72,  -74,  -43, ..., -111,   13, -115],\n",
       "       [-122,  107,  -67, ...,   33,  -75,   71],\n",
       "       [  55,  -61,   70, ...,   48,   20,   65],\n",
       "       [  68,  109,  -55, ..., -116,   21,  109]], dtype=int8)"
      ]
     },
     "execution_count": 73,
     "metadata": {},
     "output_type": "execute_result"
    }
   ],
   "source": [
    "matrix"
   ]
  },
  {
   "cell_type": "code",
   "execution_count": 74,
   "id": "ecf42e30-cd8a-4692-b25e-f774911da38b",
   "metadata": {},
   "outputs": [
    {
     "data": {
      "text/plain": [
       "array([[ -12,  -71, -126,  -60,   81],\n",
       "       [-104,  -98,  -10,   94,   66],\n",
       "       [  34,   15,  -58,  -43,  -84],\n",
       "       [  16,   75,    4,  -59,  -31],\n",
       "       [  50, -107,  -23,   95,    7]], dtype=int8)"
      ]
     },
     "execution_count": 74,
     "metadata": {},
     "output_type": "execute_result"
    }
   ],
   "source": [
    "# Flatten the 5x784 matrix into a 1D array\n",
    "flattened_matrix = matrix.flatten()\n",
    "\n",
    "# Reshape the flattened array into a 784x5 matrix\n",
    "reshaped_matrix = flattened_matrix.reshape((784, 5))\n",
    "\n",
    "result_matrix = np.dot(matrix, reshaped_matrix)\n",
    "\n",
    "# Print the result matrix\n",
    "result_matrix"
   ]
  },
  {
   "cell_type": "code",
   "execution_count": 72,
   "id": "7eb8a634-3201-4dc4-9f18-d01b1714f009",
   "metadata": {},
   "outputs": [],
   "source": [
    "reshaped_matrix1 = flattened_matrix.reshape((5, 784))"
   ]
  },
  {
   "cell_type": "code",
   "execution_count": 69,
   "id": "6ee3e89e-7e03-46c0-8acc-dbcf5af7322e",
   "metadata": {},
   "outputs": [
    {
     "data": {
      "text/plain": [
       "array([[   2,   72,  112, ...,   65,   65,    7],\n",
       "       [ 105, -121, -127, ...,   81,    2, -119],\n",
       "       [  37,  126,  -97, ...,  100,  107,   55],\n",
       "       [ -27,    8, -123, ...,  111,  -14,  -31],\n",
       "       [  18,   -9,   59, ...,  127,   94, -100]], dtype=int8)"
      ]
     },
     "execution_count": 69,
     "metadata": {},
     "output_type": "execute_result"
    }
   ],
   "source": [
    "reshaped_matrix1"
   ]
  },
  {
   "cell_type": "code",
   "execution_count": 59,
   "id": "c23a2d31-4c4c-4a49-89ba-0f0cb7049535",
   "metadata": {},
   "outputs": [
    {
     "data": {
      "text/plain": [
       "(784, 5)"
      ]
     },
     "execution_count": 59,
     "metadata": {},
     "output_type": "execute_result"
    }
   ],
   "source": [
    "reshaped_matrix2.shape"
   ]
  },
  {
   "cell_type": "code",
   "execution_count": 61,
   "id": "36ac511b-cf6c-49f5-b777-dfea56911d77",
   "metadata": {},
   "outputs": [
    {
     "data": {
      "text/plain": [
       "array([[  -3,  -66,  -87,  -97,    6],\n",
       "       [  82, -128, -103,  -67, -100],\n",
       "       [ -42,    4,  -47,   83,   27],\n",
       "       [ -73,   -9,   43,   61,  -82],\n",
       "       [ -96, -112,  -31, -119, -116]], dtype=int8)"
      ]
     },
     "execution_count": 61,
     "metadata": {},
     "output_type": "execute_result"
    }
   ],
   "source": [
    "result_matrix = np.dot(reshaped_matrix1, reshaped_matrix2)\n",
    "\n",
    "# Print the result matrix\n",
    "result_matrix"
   ]
  }
 ],
 "metadata": {
  "kernelspec": {
   "display_name": "Python 3 (ipykernel)",
   "language": "python",
   "name": "python3"
  },
  "language_info": {
   "codemirror_mode": {
    "name": "ipython",
    "version": 3
   },
   "file_extension": ".py",
   "mimetype": "text/x-python",
   "name": "python",
   "nbconvert_exporter": "python",
   "pygments_lexer": "ipython3",
   "version": "3.12.2"
  }
 },
 "nbformat": 4,
 "nbformat_minor": 5
}
