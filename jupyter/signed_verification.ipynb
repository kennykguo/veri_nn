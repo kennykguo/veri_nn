{
 "cells": [
  {
   "cell_type": "code",
   "execution_count": 3,
   "id": "89e22301-4ddc-4dde-92cd-cf310c667364",
   "metadata": {},
   "outputs": [
    {
     "name": "stdout",
     "output_type": "stream",
     "text": [
      "MIF file with signed integers written to signed_matrix.mif\n"
     ]
    }
   ],
   "source": [
    "import numpy as np\n",
    "\n",
    "# Set the dimensions of the matrix\n",
    "rows = 5\n",
    "cols = 784\n",
    "\n",
    "# Generate the matrix with signed integers in the range of -128 to 127 (int8 type)\n",
    "matrix = np.random.randint(-128, 128, size=(rows, cols), dtype=np.int8)\n",
    "\n",
    "# Function to convert signed integers to 8-digit hexadecimal format\n",
    "def signed_to_hex(num):\n",
    "    # Convert signed integers to a two's complement 8-digit hex representation\n",
    "    # If the number is negative, we add 256 to convert to unsigned format\n",
    "    if num < 0:\n",
    "        return f'{num + 256:08X}'\n",
    "    else:\n",
    "        return f'{num:08X}'\n",
    "\n",
    "# Create the MIF file and write the matrix\n",
    "mif_filename = 'signed_matrix.mif'\n",
    "\n",
    "with open(mif_filename, 'w') as mif_file:\n",
    "    # Write the matrix directly as 8-digit hex numbers, one per line\n",
    "    for row in matrix:\n",
    "        for num in row:\n",
    "            mif_file.write(signed_to_hex(num) + '\\n')\n",
    "\n",
    "print(f'MIF file with signed integers written to {mif_filename}')\n"
   ]
  },
  {
   "cell_type": "code",
   "execution_count": 12,
   "id": "e66f971a-0b01-4a58-bbf4-a42526818d70",
   "metadata": {},
   "outputs": [
    {
     "data": {
      "text/plain": [
       "array([[ 122,  -93,   62, ...,  -71,   49,   96],\n",
       "       [ 106,   72,  -18, ...,  -46,   61,   -1],\n",
       "       [  62,  -99, -119, ...,   34,  -22,  -41],\n",
       "       [  53,   46,  126, ...,   67, -100, -103],\n",
       "       [ -87,  -10,   56, ..., -127,  -51,   57]], dtype=int8)"
      ]
     },
     "execution_count": 12,
     "metadata": {},
     "output_type": "execute_result"
    }
   ],
   "source": [
    "matrix"
   ]
  },
  {
   "cell_type": "code",
   "execution_count": 13,
   "id": "bb329df0-4451-4466-a764-0a8ba3c740d4",
   "metadata": {},
   "outputs": [
    {
     "data": {
      "text/plain": [
       "array([[ 122,  -93,   62,   76,   78],\n",
       "       [ -67,  113,  106,  122,   32],\n",
       "       [ 110,   14,  -69,  -98,  -27],\n",
       "       ...,\n",
       "       [  28,  -37,   81,   74,   98],\n",
       "       [ 123,  117,  -27,   69,    0],\n",
       "       [  15,   61, -127,  -51,   57]], dtype=int8)"
      ]
     },
     "execution_count": 13,
     "metadata": {},
     "output_type": "execute_result"
    }
   ],
   "source": [
    "reshaped_matrix"
   ]
  },
  {
   "cell_type": "code",
   "execution_count": 11,
   "id": "ecf42e30-cd8a-4692-b25e-f774911da38b",
   "metadata": {},
   "outputs": [],
   "source": [
    "# Flatten the 5x784 matrix into a 1D array\n",
    "flattened_matrix = matrix.flatten()\n",
    "\n",
    "# Reshape the flattened array into a 784x5 matrix\n",
    "reshaped_matrix = flattened_matrix.reshape((784, 5))"
   ]
  },
  {
   "cell_type": "code",
   "execution_count": 16,
   "id": "c8b9e1ad-4dc4-4329-8f21-83bab7d76558",
   "metadata": {},
   "outputs": [
    {
     "data": {
      "text/plain": [
       "array([[  21,    5,   18,  -43, -123],\n",
       "       [  -2, -116,  114,  -51,   24],\n",
       "       [ -75,  -13,  104,  107,  -22],\n",
       "       [ -52,   37,  125,  -96,  -66],\n",
       "       [  89,   66,  115,  -81,  -40]], dtype=int8)"
      ]
     },
     "execution_count": 16,
     "metadata": {},
     "output_type": "execute_result"
    }
   ],
   "source": [
    "# Compute the product of the matrix and its transpose\n",
    "result_matrix = np.dot(matrix, reshaped_matrix)\n",
    "\n",
    "# Print the result matrix\n",
    "result_matrix"
   ]
  }
 ],
 "metadata": {
  "kernelspec": {
   "display_name": "Python 3 (ipykernel)",
   "language": "python",
   "name": "python3"
  },
  "language_info": {
   "codemirror_mode": {
    "name": "ipython",
    "version": 3
   },
   "file_extension": ".py",
   "mimetype": "text/x-python",
   "name": "python",
   "nbconvert_exporter": "python",
   "pygments_lexer": "ipython3",
   "version": "3.12.2"
  }
 },
 "nbformat": 4,
 "nbformat_minor": 5
}
