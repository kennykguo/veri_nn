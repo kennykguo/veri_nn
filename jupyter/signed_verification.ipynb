{
 "cells": [
  {
   "cell_type": "code",
   "execution_count": 84,
   "id": "89e22301-4ddc-4dde-92cd-cf310c667364",
   "metadata": {},
   "outputs": [
    {
     "name": "stdout",
     "output_type": "stream",
     "text": [
      "MIF file with signed integers written to signed_matrix.mif\n"
     ]
    }
   ],
   "source": [
    "import numpy as np\n",
    "\n",
    "np.random.seed(42)  # You can use any integer as the seed\n",
    "\n",
    "# Set the dimensions of the matrix\n",
    "rows = 5\n",
    "cols = 784\n",
    "\n",
    "# Generate the matrix with signed integers in the range of -128 to 127 (int8 type)\n",
    "matrix = np.random.randint(-128, 128, size=(rows, cols), dtype=np.int64)\n",
    "\n",
    "# Function to convert signed integers to 32-bit two's complement hex\n",
    "def signed_to_hex(num):\n",
    "    # Convert to 32-bit signed int\n",
    "    num_32bit = np.int32(num)\n",
    "    # Convert to unsigned 32-bit for hex representation\n",
    "    # & 0xFFFFFFFF ensures we get the full 32-bit representation\n",
    "    unsigned_32bit = num_32bit & 0xFFFFFFFF\n",
    "    return f'{unsigned_32bit:08X}'\n",
    "\n",
    "# Create the MIF file and write the matrix\n",
    "mif_filename = 'signed_matrix.mif'\n",
    "with open(mif_filename, 'w') as mif_file:\n",
    "    for row in matrix:\n",
    "        for num in row:\n",
    "            mif_file.write(signed_to_hex(num) + '\\n')\n",
    "\n",
    "print(f'MIF file with signed integers written to {mif_filename}')"
   ]
  },
  {
   "cell_type": "code",
   "execution_count": 85,
   "id": "e66f971a-0b01-4a58-bbf4-a42526818d70",
   "metadata": {},
   "outputs": [
    {
     "data": {
      "text/plain": [
       "(5, 784)"
      ]
     },
     "execution_count": 85,
     "metadata": {},
     "output_type": "execute_result"
    }
   ],
   "source": [
    "matrix.shape"
   ]
  },
  {
   "cell_type": "code",
   "execution_count": 88,
   "id": "ecf42e30-cd8a-4692-b25e-f774911da38b",
   "metadata": {},
   "outputs": [
    {
     "data": {
      "text/plain": [
       "array([[-225568,  -55137,   83354,   19552,  132866],\n",
       "       [ 263977,  -57833,  342278,  215994,   89622],\n",
       "       [-204815,  -12592,   98220, -105589, -266631],\n",
       "       [  49957,  -49426,   78725,  213590,   15547],\n",
       "       [  53563,  176833,  182338,  108845,  203540]])"
      ]
     },
     "execution_count": 88,
     "metadata": {},
     "output_type": "execute_result"
    }
   ],
   "source": [
    "# Flatten the 5x784 matrix into a 1D array\n",
    "flattened_matrix = matrix.flatten()\n",
    "\n",
    "# Reshape the flattened array into a 784x5 matrix\n",
    "reshaped_matrix = flattened_matrix.reshape((784, 5))\n",
    "\n",
    "result_matrix = np.dot(matrix, reshaped_matrix)\n",
    "\n",
    "# Print the result matrix\n",
    "result_matrix"
   ]
  }
 ],
 "metadata": {
  "kernelspec": {
   "display_name": "Python 3 (ipykernel)",
   "language": "python",
   "name": "python3"
  },
  "language_info": {
   "codemirror_mode": {
    "name": "ipython",
    "version": 3
   },
   "file_extension": ".py",
   "mimetype": "text/x-python",
   "name": "python",
   "nbconvert_exporter": "python",
   "pygments_lexer": "ipython3",
   "version": "3.12.2"
  }
 },
 "nbformat": 4,
 "nbformat_minor": 5
}
